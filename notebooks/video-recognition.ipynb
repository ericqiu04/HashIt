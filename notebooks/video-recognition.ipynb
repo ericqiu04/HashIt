{
 "cells": [
  {
   "cell_type": "markdown",
   "metadata": {},
   "source": [
    "### prediction with imageai video detection and analysis\n",
    "\n",
    "recognition and classification of entities in .mp4 files.\n",
    "\n",
    "[documentation](https://imageai.readthedocs.io/en/latest/prediction/index.html)"
   ]
  },
  {
   "cell_type": "code",
   "execution_count": 1,
   "metadata": {},
   "outputs": [],
   "source": [
    "from imageai.Detection import VideoObjectDetection\n",
    "detector = VideoObjectDetection()"
   ]
  },
  {
   "cell_type": "markdown",
   "metadata": {},
   "source": [
    "set and load the Pytorch model, currently 3 main models to test:\n",
    "\n",
    " - RetinaNet Model\n",
    "\n",
    " - YOLOv3 Model\n",
    "\n",
    " - TinyYOLOv3 Model"
   ]
  },
  {
   "cell_type": "code",
   "execution_count": null,
   "metadata": {},
   "outputs": [],
   "source": [
    "import os\n",
    "execution_path = os.getcwd()\n",
    "\n",
    "detector.setModelTypeAsRetinaNet()\n",
    "detector.setModelPath(os.path.join(execution_path, './pytorch-models/retinanet_resnet50_fpn_coco-eeacb38b.pth'))\n",
    "detector.loadModel()\n",
    "\n",
    "\"\"\"\n",
    "TODO\n",
    "\"\"\"\n",
    "video_path = detector.detectObjectsFromVideo(input_file_path=os.path.join(execution_path, './test-videos/cow-eating-grass.mp4'),\n",
    "                                             output_file_path=os.path.join(execution_path, \"updated-cow-eating-grass\"), frames_per_second=20, log_progress=True)\n",
    "print(video_path)"
   ]
  }
 ],
 "metadata": {
  "kernelspec": {
   "display_name": ".ipynb-venv",
   "language": "python",
   "name": "python3"
  },
  "language_info": {
   "codemirror_mode": {
    "name": "ipython",
    "version": 3
   },
   "file_extension": ".py",
   "mimetype": "text/x-python",
   "name": "python",
   "nbconvert_exporter": "python",
   "pygments_lexer": "ipython3",
   "version": "3.11.7"
  }
 },
 "nbformat": 4,
 "nbformat_minor": 2
}

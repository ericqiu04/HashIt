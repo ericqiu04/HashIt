{
 "cells": [
  {
   "cell_type": "markdown",
   "metadata": {},
   "source": [
    "### prediction with imageai image classification\n",
    "\n",
    "image recognition and classification of entities in .jpg files.\n",
    "\n",
    "[documentation](https://imageai.readthedocs.io/en/latest/prediction/index.html)"
   ]
  },
  {
   "cell_type": "code",
   "execution_count": 7,
   "metadata": {},
   "outputs": [],
   "source": [
    "from imageai.Classification import ImageClassification\n",
    "prediction = ImageClassification()  "
   ]
  },
  {
   "cell_type": "markdown",
   "metadata": {},
   "source": [
    "set and load the Pytorch model, currently 4 main models to test:\n",
    "\n",
    " - MobileNetV2\n",
    "\n",
    " - ResNet50\n",
    "\n",
    " - InceptionV3\n",
    "\n",
    " - DenseNet121"
   ]
  },
  {
   "cell_type": "code",
   "execution_count": 9,
   "metadata": {},
   "outputs": [],
   "source": [
    "prediction.setModelTypeAsMobileNetV2()\n",
    "prediction.setModelPath('./pytorch-models/mobilenet_v2-b0353104.pth')\n",
    "prediction.loadModel()  "
   ]
  },
  {
   "cell_type": "markdown",
   "metadata": {},
   "source": [
    "sample images to test:\n",
    "\n",
    " - easy - one distinct entity\n",
    "\n",
    " - medium - some entities, distinguishable from another\n",
    "\n",
    " - hard - multiple entities that are ambiguous"
   ]
  },
  {
   "cell_type": "code",
   "execution_count": 5,
   "metadata": {},
   "outputs": [],
   "source": [
    "import os\n",
    "\n",
    "\n",
    "def read_image_folder(folder_path):\n",
    "    image_list = []\n",
    "\n",
    "    if not os.path.exists(folder_path):\n",
    "        print(f\"Error: Folder '{folder_path}' not found.\")\n",
    "        return image_list\n",
    "\n",
    "    # all files\n",
    "    file_list = [f for f in os.listdir(\n",
    "        folder_path) if f.lower().endswith('.jpg')]\n",
    "\n",
    "    # file_name and file_path keys\n",
    "    for file_name in file_list:\n",
    "        image_info = {'file_name': file_name,\n",
    "                      'file_path': os.path.join(folder_path, file_name)}\n",
    "        image_list.append(image_info)\n",
    "\n",
    "    return image_list\n",
    "\n",
    "\n",
    "folder_path = './test-images/'\n",
    "test_images = read_image_folder(folder_path)"
   ]
  },
  {
   "cell_type": "markdown",
   "metadata": {},
   "source": [
    "image classification\n",
    " - prediction_results is list of possible predictions\n",
    "\n",
    " - prediction_probabilities is precentage probability of corresponding prediction_result"
   ]
  },
  {
   "cell_type": "code",
   "execution_count": 6,
   "metadata": {},
   "outputs": [
    {
     "name": "stdout",
     "output_type": "stream",
     "text": [
      "easy-mercedes-benz.jpg\n",
      "sports car : 69.3813\n",
      "grille : 9.8036\n",
      "car wheel : 8.3787\n",
      "racer : 5.8336\n",
      "limousine : 2.9246\n",
      "beach wagon : 2.1226\n",
      "convertible : 1.1821\n",
      "pickup : 0.1995\n",
      "minivan : 0.0517\n",
      "passenger car : 0.0482\n",
      "\n",
      "\n",
      "hard-toronto-skyline.jpg\n",
      "dome : 25.8075\n",
      "dock : 16.1284\n",
      "stupa : 14.9852\n",
      "palace : 10.0017\n",
      "liner : 7.1203\n",
      "mosque : 3.6186\n",
      "container ship : 3.484\n",
      "aircraft carrier : 1.8249\n",
      "castle : 1.5933\n",
      "lakeside : 1.4154\n",
      "\n",
      "\n",
      "medium-dev-at-work.jpg\n",
      "notebook : 25.8565\n",
      "desktop computer : 25.7401\n",
      "monitor : 13.4409\n",
      "hand-held computer : 9.7966\n",
      "laptop : 6.0003\n",
      "screen : 5.2257\n",
      "mouse : 2.7755\n",
      "cellular telephone : 2.3305\n",
      "projector : 1.9611\n",
      "modem : 1.2516\n",
      "\n",
      "\n",
      "hard-cne.jpg\n",
      "crane : 21.247\n",
      "solar dish : 16.4938\n",
      "sundial : 14.6827\n",
      "paddlewheel : 10.0816\n",
      "radio telescope : 4.3467\n",
      "umbrella : 2.0913\n",
      "yurt : 2.0771\n",
      "balloon : 1.9348\n",
      "vault : 1.9116\n",
      "steel arch bridge : 1.7432\n",
      "\n",
      "\n",
      "medium-happy-dog-with-owner.jpg\n",
      "Labrador retriever : 52.4477\n",
      "American Staffordshire terrier : 25.2296\n",
      "Staffordshire bullterrier : 8.2857\n",
      "Great Dane : 5.3655\n",
      "German short-haired pointer : 1.8439\n",
      "bull mastiff : 1.2418\n",
      "flat-coated retriever : 1.0532\n",
      "kelpie : 1.0172\n",
      "Chesapeake Bay retriever : 0.6213\n",
      "muzzle : 0.3873\n",
      "\n",
      "\n"
     ]
    }
   ],
   "source": [
    "def test_prediction(img_file_path):\n",
    "    predictions, probabilities = prediction.classifyImage(\n",
    "        str(img_file_path), result_count=10)\n",
    "    \n",
    "    for eachPrediction, eachProbability in zip(predictions, probabilities):\n",
    "        print(eachPrediction, \":\", eachProbability)\n",
    "    print('\\n')\n",
    "\n",
    "for item in test_images:\n",
    "    ...\n",
    "    print(item[\"file_name\"])\n",
    "    test_prediction(item[\"file_path\"])\n",
    "\n"
   ]
  },
  {
   "cell_type": "code",
   "execution_count": null,
   "metadata": {},
   "outputs": [],
   "source": []
  }
 ],
 "metadata": {
  "kernelspec": {
   "display_name": ".ipynb-venv",
   "language": "python",
   "name": "python3"
  },
  "language_info": {
   "codemirror_mode": {
    "name": "ipython",
    "version": 3
   },
   "file_extension": ".py",
   "mimetype": "text/x-python",
   "name": "python",
   "nbconvert_exporter": "python",
   "pygments_lexer": "ipython3",
   "version": "3.11.7"
  }
 },
 "nbformat": 4,
 "nbformat_minor": 2
}
